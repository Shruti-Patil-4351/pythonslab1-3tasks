{
  "nbformat": 4,
  "nbformat_minor": 0,
  "metadata": {
    "colab": {
      "provenance": []
    },
    "kernelspec": {
      "name": "python3",
      "display_name": "Python 3"
    },
    "language_info": {
      "name": "python"
    }
  },
  "cells": [
    {
      "cell_type": "markdown",
      "source": [
        "**1.\n",
        "Using the Pandas library, load a CSV file and\n",
        "perform basic data analysis tasks, such as\n",
        "calculating the average of a selected column. Additionally, use Matplotlib to create\n",
        "visualizations, including bar charts, scatter plots, and heatmaps, to analyze the data. Provide\n",
        "insights and observations based on the analysis and visualizations.**\n"
      ],
      "metadata": {
        "id": "Igcv5TGQLAxg"
      }
    },
    {
      "cell_type": "code",
      "source": [
        "import pandas as pd\n",
        "import matplotlib.pyplot as plt\n",
        "import seaborn as sns\n",
        "\n",
        "# Load CSV file (replace 'data.csv' with your file)\n",
        "df = pd.read_csv(\"data.csv\")\n",
        "\n",
        "# Show first 5 rows\n",
        "print(\"First 5 rows of the dataset:\")\n",
        "print(df.head())\n",
        "\n",
        "# Basic Information\n",
        "print(\"\\nDataset Info:\")\n",
        "print(df.info())\n",
        "\n",
        "print(\"\\nStatistical Summary:\")\n",
        "print(df.describe())\n",
        "\n",
        "# ---- Data Analysis ----\n",
        "# Example: Calculate average of a selected column (e.g., \"Age\")\n",
        "if \"Age\" in df.columns:\n",
        "    avg_age = df[\"Age\"].mean()\n",
        "    print(f\"\\n✅ Average Age: {avg_age:.2f}\")\n",
        "else:\n",
        "    print(\"\\n⚠️ Column 'Age' not found in dataset.\")\n",
        "\n",
        "# ---- Visualization 1: Bar Chart ----\n",
        "if \"Gender\" in df.columns:\n",
        "    df[\"Gender\"].value_counts().plot(kind=\"bar\", figsize=(6,4))\n",
        "    plt.title(\"Count of Genders\")\n",
        "    plt.xlabel(\"Gender\")\n",
        "    plt.ylabel(\"Count\")\n",
        "    plt.show()\n",
        "\n",
        "# ---- Visualization 2: Scatter Plot ----\n",
        "if {\"Age\", \"Salary\"}.issubset(df.columns):\n",
        "    plt.figure(figsize=(6,4))\n",
        "    plt.scatter(df[\"Age\"], df[\"Salary\"], alpha=0.6)\n",
        "    plt.title(\"Age vs Salary\")\n",
        "    plt.xlabel(\"Age\")\n",
        "    plt.ylabel(\"Salary\")\n",
        "    plt.show()\n",
        "\n",
        "# ---- Visualization 3: Heatmap (Correlation Matrix) ----\n",
        "plt.figure(figsize=(8,6))\n",
        "sns.heatmap(df.corr(numeric_only=True), annot=True, cmap=\"coolwarm\", fmt=\".2f\")\n",
        "plt.title(\"Correlation Heatmap\")\n",
        "plt.show()\n",
        "\n",
        "# ---- Observations ----\n",
        "print(\"\\nObservations:\")\n",
        "print(\"1. Bar Chart helps us see category distribution (e.g., Gender).\")\n",
        "print(\"2. Scatter Plot shows possible relationships between Age and Salary.\")\n",
        "print(\"3. Heatmap reveals correlations between numerical variables.\")\n"
      ],
      "metadata": {
        "colab": {
          "base_uri": "https://localhost:8080/",
          "height": 1000
        },
        "id": "eADDw1W-J1MI",
        "outputId": "aaa5e58a-be91-49ee-bf46-5e99f571412d"
      },
      "execution_count": null,
      "outputs": [
        {
          "output_type": "stream",
          "name": "stdout",
          "text": [
            "First 5 rows of the dataset:\n",
            "          Car       Model  Volume  Weight  CO2\n",
            "0      Toyoty        Aygo    1000     790   99\n",
            "1  Mitsubishi  Space Star    1200    1160   95\n",
            "2       Skoda      Citigo    1000     929   95\n",
            "3        Fiat         500     900     865   90\n",
            "4        Mini      Cooper    1500    1140  105\n",
            "\n",
            "Dataset Info:\n",
            "<class 'pandas.core.frame.DataFrame'>\n",
            "RangeIndex: 36 entries, 0 to 35\n",
            "Data columns (total 5 columns):\n",
            " #   Column  Non-Null Count  Dtype \n",
            "---  ------  --------------  ----- \n",
            " 0   Car     36 non-null     object\n",
            " 1   Model   36 non-null     object\n",
            " 2   Volume  36 non-null     int64 \n",
            " 3   Weight  36 non-null     int64 \n",
            " 4   CO2     36 non-null     int64 \n",
            "dtypes: int64(3), object(2)\n",
            "memory usage: 1.5+ KB\n",
            "None\n",
            "\n",
            "Statistical Summary:\n",
            "            Volume       Weight         CO2\n",
            "count    36.000000    36.000000   36.000000\n",
            "mean   1611.111111  1292.277778  102.027778\n",
            "std     388.975047   242.123889    7.454571\n",
            "min     900.000000   790.000000   90.000000\n",
            "25%    1475.000000  1117.250000   97.750000\n",
            "50%    1600.000000  1329.000000   99.000000\n",
            "75%    2000.000000  1418.250000  105.000000\n",
            "max    2500.000000  1746.000000  120.000000\n",
            "\n",
            "⚠️ Column 'Age' not found in dataset.\n"
          ]
        },
        {
          "output_type": "display_data",
          "data": {
            "text/plain": [
              "<Figure size 800x600 with 2 Axes>"
            ],
            "image/png": "[encoded data removed]"
          },
          "metadata": {}
        },
        {
          "output_type": "stream",
          "name": "stdout",
          "text": [
            "\n",
            "Observations:\n",
            "1. Bar Chart helps us see category distribution (e.g., Gender).\n",
            "2. Scatter Plot shows possible relationships between Age and Salary.\n",
            "3. Heatmap reveals correlations between numerical variables.\n"
          ]
        }
      ]
    },
    {
      "cell_type": "markdown",
      "source": [
        "**2 . Develop a linear regression model to predict house price based on features such as the\n",
        "number of rooms, location, size and other relevant factors. Collect a suitable dataset from\n",
        "Kaggle, preprocess it, and train the model to make accurate predictions.**\n"
      ],
      "metadata": {
        "id": "O61wnBFILUOI"
      }
    },
    {
      "cell_type": "markdown",
      "source": [
        "**Import Libraries**"
      ],
      "metadata": {
        "id": "LmnSpK79nU5E"
      }
    },
    {
      "cell_type": "code",
      "source": [
        "import pandas as pd\n",
        "import numpy as np\n",
        "import matplotlib.pyplot as plt\n",
        "import seaborn as sns\n",
        "from sklearn.model_selection import train_test_split\n",
        "from sklearn.linear_model import LinearRegression\n",
        "from sklearn.metrics import mean_squared_error, r2_score\n"
      ],
      "metadata": {
        "id": "HeKBZxCDK-vI"
      },
      "execution_count": null,
      "outputs": []
    },
    {
      "cell_type": "markdown",
      "source": [
        " **Load the Dataset**"
      ],
      "metadata": {
        "id": "ULgBl40QMjli"
      }
    },
    {
      "cell_type": "code",
      "source": [
        "# Load dataset\n",
        "df = pd.read_csv(\"house_data.csv\")\n",
        "\n",
        "print(\"Dataset Shape:\", df.shape)\n",
        "print(\"\\nFirst 5 Rows:\\n\", df.head())\n",
        "print(\"\\nMissing Values:\\n\", df.isnull().sum().head(20))\n"
      ],
      "metadata": {
        "colab": {
          "base_uri": "https://localhost:8080/"
        },
        "id": "Toqg4vheMk2s",
        "outputId": "40a374d2-4f8f-4c17-ed79-dbfe7c178c33"
      },
      "execution_count": null,
      "outputs": [
        {
          "output_type": "stream",
          "name": "stdout",
          "text": [
            "Dataset Shape: (21613, 21)\n",
            "\n",
            "First 5 Rows:\n",
            "            id             date     price  bedrooms  bathrooms  sqft_living  \\\n",
            "0  7129300520  20141013T000000  221900.0         3       1.00         1180   \n",
            "1  6414100192  20141209T000000  538000.0         3       2.25         2570   \n",
            "2  5631500400  20150225T000000  180000.0         2       1.00          770   \n",
            "3  2487200875  20141209T000000  604000.0         4       3.00         1960   \n",
            "4  1954400510  20150218T000000  510000.0         3       2.00         1680   \n",
            "\n",
            "   sqft_lot  floors  waterfront  view  ...  grade  sqft_above  sqft_basement  \\\n",
            "0      5650     1.0           0     0  ...      7      1180.0              0   \n",
            "1      7242     2.0           0     0  ...      7      2170.0            400   \n",
            "2     10000     1.0           0     0  ...      6       770.0              0   \n",
            "3      5000     1.0           0     0  ...      7      1050.0            910   \n",
            "4      8080     1.0           0     0  ...      8      1680.0              0   \n",
            "\n",
            "   yr_built  yr_renovated  zipcode      lat     long  sqft_living15  \\\n",
            "0      1955             0    98178  47.5112 -122.257           1340   \n",
            "1      1951          1991    98125  47.7210 -122.319           1690   \n",
            "2      1933             0    98028  47.7379 -122.233           2720   \n",
            "3      1965             0    98136  47.5208 -122.393           1360   \n",
            "4      1987             0    98074  47.6168 -122.045           1800   \n",
            "\n",
            "   sqft_lot15  \n",
            "0        5650  \n",
            "1        7639  \n",
            "2        8062  \n",
            "3        5000  \n",
            "4        7503  \n",
            "\n",
            "[5 rows x 21 columns]\n",
            "\n",
            "Missing Values:\n",
            " id               0\n",
            "date             0\n",
            "price            0\n",
            "bedrooms         0\n",
            "bathrooms        0\n",
            "sqft_living      0\n",
            "sqft_lot         0\n",
            "floors           0\n",
            "waterfront       0\n",
            "view             0\n",
            "condition        0\n",
            "grade            0\n",
            "sqft_above       2\n",
            "sqft_basement    0\n",
            "yr_built         0\n",
            "yr_renovated     0\n",
            "zipcode          0\n",
            "lat              0\n",
            "long             0\n",
            "sqft_living15    0\n",
            "dtype: int64\n"
          ]
        }
      ]
    },
    {
      "cell_type": "markdown",
      "source": [
        "**Data Preprocessing**"
      ],
      "metadata": {
        "id": "aAAyf9JMMvbk"
      }
    },
    {
      "cell_type": "code",
      "source": [
        "import pandas as pd\n",
        "from sklearn.model_selection import train_test_split\n",
        "\n",
        "# Load your dataset (make sure you load it properly before this point)\n",
        "# Example: df = pd.read_csv('house_data.csv')\n",
        "df = pd.read_csv(\"house_data.csv\")\n",
        "\n",
        "\n",
        "# 🔧 Step 1: Clean the data\n",
        "df = df.dropna()\n",
        "\n",
        "# 🔍 Step 2: Print available columns\n",
        "print(\"Available columns in the dataset:\")\n",
        "print(df.columns.tolist())\n",
        "\n",
        "# ✅ Step 3: Define columns that should be in the dataset\n",
        "# You can switch between sets of features depending on the dataset\n",
        "if set([\"sqft_living\", \"bedrooms\", \"bathrooms\", \"grade\", \"price\"]).issubset(df.columns):\n",
        "    features = [\"sqft_living\", \"bedrooms\", \"bathrooms\", \"grade\"]\n",
        "    target = \"price\"\n",
        "elif set([\"OverallQual\", \"GrLivArea\", \"GarageCars\", \"TotalBsmtSF\", \"FullBath\", \"SalePrice\"]).issubset(df.columns):\n",
        "    features = [\"OverallQual\", \"GrLivArea\", \"GarageCars\", \"TotalBsmtSF\", \"FullBath\"]\n",
        "    target = \"SalePrice\"\n",
        "else:\n",
        "    raise ValueError(\"Expected columns not found in the dataset. Please update feature/target names.\")\n",
        "\n",
        "# ✅ Step 4: Prepare data\n",
        "X = df[features]\n",
        "y = df[target]\n",
        "\n",
        "# ✅ Step 5: Train-test split\n",
        "X_train, X_test, y_train, y_test = train_test_split(X, y, test_size=0.2, random_state=42)\n",
        "\n",
        "print(\"Train-test split completed successfully.\")"
      ],
      "metadata": {
        "colab": {
          "base_uri": "https://localhost:8080/"
        },
        "id": "QKdsHxpoMu0n",
        "outputId": "3b944027-68fc-42e0-c240-564ab32ee510"
      },
      "execution_count": null,
      "outputs": [
        {
          "output_type": "stream",
          "name": "stdout",
          "text": [
            "Available columns in the dataset:\n",
            "['id', 'date', 'price', 'bedrooms', 'bathrooms', 'sqft_living', 'sqft_lot', 'floors', 'waterfront', 'view', 'condition', 'grade', 'sqft_above', 'sqft_basement', 'yr_built', 'yr_renovated', 'zipcode', 'lat', 'long', 'sqft_living15', 'sqft_lot15']\n",
            "Train-test split completed successfully.\n"
          ]
        }
      ]
    },
    {
      "cell_type": "markdown",
      "source": [
        "**Train the Model**"
      ],
      "metadata": {
        "id": "1w9NB6qoMvU5"
      }
    },
    {
      "cell_type": "code",
      "source": [
        "from sklearn.linear_model import LinearRegression\n",
        "from sklearn.metrics import mean_squared_error, r2_score\n",
        "\n",
        "# Assuming X_train, y_train, X_test, y_test are already defined\n",
        "\n",
        "model = LinearRegression()\n",
        "model.fit(X_train, y_train)\n",
        "\n",
        "y_pred = model.predict(X_test)\n",
        "\n",
        "# Evaluation\n",
        "mse = mean_squared_error(y_test, y_pred)\n",
        "r2 = r2_score(y_test, y_pred)\n",
        "\n",
        "print(f\" Model Trained Successfully\")\n",
        "print(f\"Mean Squared Error: {mse:.2f}\")\n",
        "print(f\"R² Score: {r2:.2f}\")\n"
      ],
      "metadata": {
        "colab": {
          "base_uri": "https://localhost:8080/"
        },
        "id": "PWDuO9rylhwM",
        "outputId": "73de5c35-7172-4a67-e989-55445fe9e597"
      },
      "execution_count": null,
      "outputs": [
        {
          "output_type": "stream",
          "name": "stdout",
          "text": [
            " Model Trained Successfully\n",
            "Mean Squared Error: 67257719084.17\n",
            "R² Score: 0.55\n"
          ]
        }
      ]
    },
    {
      "cell_type": "markdown",
      "source": [
        "**Visualize Results**"
      ],
      "metadata": {
        "id": "kEfVkGp3nEv7"
      }
    },
    {
      "cell_type": "code",
      "source": [
        "import matplotlib.pyplot as plt\n",
        "import seaborn as sns\n",
        "\n",
        "# Actual vs Predicted Prices\n",
        "plt.figure(figsize=(7,7))\n",
        "plt.scatter(y_test, y_pred, alpha=0.6, color=\"blue\")\n",
        "plt.xlabel(\"Actual House Prices\")\n",
        "plt.ylabel(\"Predicted House Prices\")\n",
        "plt.title(\"Actual vs Predicted House Prices\")\n",
        "plt.plot([y.min(), y.max()], [y.min(), y.max()], 'r--')  # perfect prediction line\n",
        "plt.show()\n",
        "\n",
        "# Residuals Plot\n",
        "plt.figure(figsize=(7,5))\n",
        "sns.histplot(y_test - y_pred, bins=30, kde=True, color=\"green\")\n",
        "plt.title(\"Distribution of Prediction Errors\")\n",
        "plt.xlabel(\"Error\")\n",
        "plt.show()\n"
      ],
      "metadata": {
        "colab": {
          "base_uri": "https://localhost:8080/",
          "height": 1000
        },
        "id": "T9KaQn9zlyvL",
        "outputId": "d2913a65-185f-4ccb-a8fa-aa3556dcab31"
      },
      "execution_count": null,
      "outputs": [
        {
          "output_type": "display_data",
          "data": {
            "text/plain": [
              "<Figure size 700x700 with 1 Axes>"
            ],
            "image/png": "[encoded data removed]"
          },
          "metadata": {}
        },
        {
          "output_type": "display_data",
          "data": {
            "text/plain": [
              "<Figure size 700x500 with 1 Axes>"
            ],
            "image/png": "[encoded data removed]"
          },
          "metadata": {}
        }
      ]
    },
    {
      "cell_type": "markdown",
      "source": [
        "**Predict New House Price**"
      ],
      "metadata": {
        "id": "MA8H0MiNn0Ov"
      }
    },
    {
      "cell_type": "code",
      "source": [
        "features = [\"sqft_living\", \"bedrooms\", \"bathrooms\", \"grade\"]\n"
      ],
      "metadata": {
        "id": "L81_EdTGmHHu"
      },
      "execution_count": null,
      "outputs": []
    },
    {
      "cell_type": "code",
      "source": [
        "sample_house = pd.DataFrame({\n",
        "    \"sqft_living\": [2000],\n",
        "    \"bedrooms\": [3],  # set example value\n",
        "    \"bathrooms\": [2], # set example value\n",
        "    \"grade\": [7]      # set example value\n",
        "})"
      ],
      "metadata": {
        "id": "gXCMlPJSmmX6"
      },
      "execution_count": null,
      "outputs": []
    },
    {
      "cell_type": "code",
      "source": [
        "sample_house = pd.DataFrame({\n",
        "    \"sqft_living\": [2000],\n",
        "    \"bedrooms\": [3],\n",
        "    \"bathrooms\": [2],\n",
        "    \"grade\": [7]\n",
        "})\n",
        "\n",
        "predicted_price = model.predict(sample_house)[0]\n",
        "print(f\"Predicted House Price: ${predicted_price:,.2f}\")\n"
      ],
      "metadata": {
        "colab": {
          "base_uri": "https://localhost:8080/"
        },
        "id": "5BdjM4sbmqJm",
        "outputId": "5f1d9d98-be82-4751-a342-833bf4d4a581"
      },
      "execution_count": null,
      "outputs": [
        {
          "output_type": "stream",
          "name": "stdout",
          "text": [
            "Predicted House Price: $478,364.02\n"
          ]
        }
      ]
    },
    {
      "cell_type": "markdown",
      "source": [
        "**3. Create a \"Matrix Operations Tool\" using Python and the NumPy library. The application should\n",
        "allow users to input matrices and perform operations like addition, subtraction,\n",
        "multiplication, transpose, and determinant calculation. Include an interactive interface to\n",
        "display results in a structured format.**\n"
      ],
      "metadata": {
        "id": "giHR-q9fn8oP"
      }
    },
    {
      "cell_type": "code",
      "source": [
        "import numpy as np\n",
        "\n",
        "def input_matrix(name):\n",
        "    print(f\"\\nEnter matrix {name} row by row, with values separated by spaces.\")\n",
        "    print(\"Type 'done' when finished.\")\n",
        "    rows = []\n",
        "    while True:\n",
        "        row = input()\n",
        "        if row.lower() == 'done':\n",
        "            break\n",
        "        try:\n",
        "            row_values = list(map(float, row.strip().split()))\n",
        "            rows.append(row_values)\n",
        "        except ValueError:\n",
        "            print(\"Invalid input. Please enter only numeric values separated by spaces, or 'done' to finish.\")\n",
        "            continue\n",
        "    # Validate matrix shape\n",
        "    if len(rows) == 0:\n",
        "        print(\"No rows entered. Try again.\")\n",
        "        return input_matrix(name)\n",
        "    row_length = len(rows[0])\n",
        "    for r in rows:\n",
        "        if len(r) != row_length:\n",
        "            print(\"Rows must have the same number of columns. Try again.\")\n",
        "            return input_matrix(name)\n",
        "    matrix = np.array(rows)\n",
        "    print(f\"Matrix {name}:\\n{matrix}\")\n",
        "    return matrix\n",
        "\n",
        "def display_menu():\n",
        "    print(\"\\nMatrix Operations Menu:\")\n",
        "    print(\"1. Add matrices (A + B)\")\n",
        "    print(\"2. Subtract matrices (A - B)\")\n",
        "    print(\"3. Multiply matrices (A * B)\")\n",
        "    print(\"4. Transpose matrix (A or B)\")\n",
        "    print(\"5. Determinant of matrix (A or B)\")\n",
        "    print(\"6. Exit\")\n",
        "\n",
        "def main():\n",
        "    print(\"Welcome to the Matrix Operations Tool!\")\n",
        "    matrix_a = input_matrix('A')\n",
        "    matrix_b = input_matrix('B')\n",
        "\n",
        "    while True:\n",
        "        display_menu()\n",
        "        choice = input(\"Choose an operation (1-6): \").strip()\n",
        "\n",
        "        if choice == '1':\n",
        "            if matrix_a.shape != matrix_b.shape:\n",
        "                print(\"Error: Matrices must be the same shape for addition.\")\n",
        "            else:\n",
        "                result = matrix_a + matrix_b\n",
        "                print(\"Result of A + B:\")\n",
        "                print(result)\n",
        "\n",
        "        elif choice == '2':\n",
        "            if matrix_a.shape != matrix_b.shape:\n",
        "                print(\"Error: Matrices must be the same shape for subtraction.\")\n",
        "            else:\n",
        "                result = matrix_a - matrix_b\n",
        "                print(\"Result of A - B:\")\n",
        "                print(result)\n",
        "\n",
        "        elif choice == '3':\n",
        "            if matrix_a.shape[1] != matrix_b.shape[0]:\n",
        "                print(\"Error: Number of columns of A must equal number of rows of B for multiplication.\")\n",
        "            else:\n",
        "                result = np.dot(matrix_a, matrix_b)\n",
        "                print(\"Result of A * B:\")\n",
        "                print(result)\n",
        "\n",
        "        elif choice == '4':\n",
        "            matrix_choice = input(\"Transpose which matrix? (A/B): \").strip().upper()\n",
        "            if matrix_choice == 'A':\n",
        "                result = matrix_a.T\n",
        "                print(\"Transpose of matrix A:\")\n",
        "                print(result)\n",
        "            elif matrix_choice == 'B':\n",
        "                result = matrix_b.T\n",
        "                print(\"Transpose of matrix B:\")\n",
        "                print(result)\n",
        "            else:\n",
        "                print(\"Invalid choice.\")\n",
        "\n",
        "        elif choice == '5':\n",
        "            matrix_choice = input(\"Calculate determinant of which matrix? (A/B): \").strip().upper()\n",
        "            if matrix_choice == 'A':\n",
        "                if matrix_a.shape[0] != matrix_a.shape[1]:\n",
        "                    print(\"Error: Matrix A must be square to calculate determinant.\")\n",
        "                else:\n",
        "                    det = np.linalg.det(matrix_a)\n",
        "                    print(f\"Determinant of matrix A: {det:.4f}\")\n",
        "            elif matrix_choice == 'B':\n",
        "                if matrix_b.shape[0] != matrix_b.shape[1]:\n",
        "                    print(\"Error: Matrix B must be square to calculate determinant.\")\n",
        "                else:\n",
        "                    det = np.linalg.det(matrix_b)\n",
        "                    print(f\"Determinant of matrix B: {det:.4f}\")\n",
        "            else:\n",
        "                print(\"Invalid choice.\")\n",
        "\n",
        "        elif choice == '6':\n",
        "            print(\"Exiting the Matrix Operations Tool. Goodbye!\")\n",
        "            break\n",
        "        else:\n",
        "            print(\"Invalid choice. Please enter a number between 1 and 6.\")\n",
        "\n",
        "if __name__ == \"__main__\":\n",
        "    main()\n"
      ],
      "metadata": {
        "colab": {
          "base_uri": "https://localhost:8080/"
        },
        "id": "p1ShV0hnoNHh",
        "outputId": "d6bc5b4d-3753-4a60-962e-8af0ba7c2a80"
      },
      "execution_count": null,
      "outputs": [
        {
          "output_type": "stream",
          "name": "stdout",
          "text": [
            "Welcome to the Matrix Operations Tool!\n",
            "\n",
            "Enter matrix A row by row, with values separated by spaces.\n",
            "Type 'done' when finished.\n",
            "2 3\n",
            "4  5\n",
            "done\n",
            "Matrix A:\n",
            "[[2. 3.]\n",
            " [4. 5.]]\n",
            "\n",
            "Enter matrix B row by row, with values separated by spaces.\n",
            "Type 'done' when finished.\n",
            "3  4\n",
            "4  3\n",
            "done\n",
            "Matrix B:\n",
            "[[3. 4.]\n",
            " [4. 3.]]\n",
            "\n",
            "Matrix Operations Menu:\n",
            "1. Add matrices (A + B)\n",
            "2. Subtract matrices (A - B)\n",
            "3. Multiply matrices (A * B)\n",
            "4. Transpose matrix (A or B)\n",
            "5. Determinant of matrix (A or B)\n",
            "6. Exit\n",
            "Choose an operation (1-6): 1\n",
            "Result of A + B:\n",
            "[[5. 7.]\n",
            " [8. 8.]]\n",
            "\n",
            "Matrix Operations Menu:\n",
            "1. Add matrices (A + B)\n",
            "2. Subtract matrices (A - B)\n",
            "3. Multiply matrices (A * B)\n",
            "4. Transpose matrix (A or B)\n",
            "5. Determinant of matrix (A or B)\n",
            "6. Exit\n",
            "Choose an operation (1-6): 2\n",
            "Result of A - B:\n",
            "[[-1. -1.]\n",
            " [ 0.  2.]]\n",
            "\n",
            "Matrix Operations Menu:\n",
            "1. Add matrices (A + B)\n",
            "2. Subtract matrices (A - B)\n",
            "3. Multiply matrices (A * B)\n",
            "4. Transpose matrix (A or B)\n",
            "5. Determinant of matrix (A or B)\n",
            "6. Exit\n",
            "Choose an operation (1-6): 5\n",
            "Calculate determinant of which matrix? (A/B): a\n",
            "Determinant of matrix A: -2.0000\n",
            "\n",
            "Matrix Operations Menu:\n",
            "1. Add matrices (A + B)\n",
            "2. Subtract matrices (A - B)\n",
            "3. Multiply matrices (A * B)\n",
            "4. Transpose matrix (A or B)\n",
            "5. Determinant of matrix (A or B)\n",
            "6. Exit\n",
            "Choose an operation (1-6): 3\n",
            "Result of A * B:\n",
            "[[18. 17.]\n",
            " [32. 31.]]\n",
            "\n",
            "Matrix Operations Menu:\n",
            "1. Add matrices (A + B)\n",
            "2. Subtract matrices (A - B)\n",
            "3. Multiply matrices (A * B)\n",
            "4. Transpose matrix (A or B)\n",
            "5. Determinant of matrix (A or B)\n",
            "6. Exit\n",
            "Choose an operation (1-6): 6\n",
            "Exiting the Matrix Operations Tool. Goodbye!\n"
          ]
        }
      ]
    }
  ]
}